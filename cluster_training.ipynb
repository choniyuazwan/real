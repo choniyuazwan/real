{
 "cells": [
  {
   "cell_type": "code",
   "execution_count": 1,
   "metadata": {},
   "outputs": [],
   "source": [
    "import pandas as pd\n",
    "import numpy as np\n",
    "import sys\n",
    "np.set_printoptions(threshold=sys.maxsize)\n",
    "from scipy import stats\n",
    "from sklearn.preprocessing import MinMaxScaler\n",
    "from sklearn.cluster import KMeans\n",
    "import matplotlib.pyplot as plt\n",
    "import seaborn as sns\n",
    "from sklearn.decomposition import PCA\n",
    "from sklearn.externals import joblib"
   ]
  },
  {
   "cell_type": "code",
   "execution_count": 2,
   "metadata": {},
   "outputs": [],
   "source": [
    "df_original = pd.read_excel('dummy original.xlsx', sheet_name='CLUSTERING')"
   ]
  },
  {
   "cell_type": "code",
   "execution_count": 3,
   "metadata": {},
   "outputs": [],
   "source": [
    "df = df_original"
   ]
  },
  {
   "cell_type": "code",
   "execution_count": 4,
   "metadata": {},
   "outputs": [
    {
     "data": {
      "text/html": [
       "<div>\n",
       "<style scoped>\n",
       "    .dataframe tbody tr th:only-of-type {\n",
       "        vertical-align: middle;\n",
       "    }\n",
       "\n",
       "    .dataframe tbody tr th {\n",
       "        vertical-align: top;\n",
       "    }\n",
       "\n",
       "    .dataframe thead th {\n",
       "        text-align: right;\n",
       "    }\n",
       "</style>\n",
       "<table border=\"1\" class=\"dataframe\">\n",
       "  <thead>\n",
       "    <tr style=\"text-align: right;\">\n",
       "      <th></th>\n",
       "      <th>Obs</th>\n",
       "      <th>CARDNO</th>\n",
       "      <th>FOOD_GROCERY</th>\n",
       "      <th>DRUGSTORES_PHARMACIES</th>\n",
       "      <th>APPAREL_ACCESSORIES</th>\n",
       "      <th>HOMEIMPROVEMENT_SUPPLY</th>\n",
       "      <th>GENERALRETAILSERVICES</th>\n",
       "      <th>HEALTHCARE</th>\n",
       "      <th>DEPARTMENTSTORES</th>\n",
       "      <th>RESTAURANTS</th>\n",
       "      <th>...</th>\n",
       "      <th>DOM_f_FACE_TO_FACE_f</th>\n",
       "      <th>DOM_f_ECI_f</th>\n",
       "      <th>INT_f_ECI_f</th>\n",
       "      <th>DOM_f_RECURRINGINSTALLMENT_f</th>\n",
       "      <th>INT_f_FACE_TO_FACE_f</th>\n",
       "      <th>DOM_f_MOTO_f</th>\n",
       "      <th>INT_f_MOTO_f</th>\n",
       "      <th>INT_f_RECURRINGINSTALLMENT_f</th>\n",
       "      <th>Weekday</th>\n",
       "      <th>Weekend</th>\n",
       "    </tr>\n",
       "  </thead>\n",
       "  <tbody>\n",
       "    <tr>\n",
       "      <th>0</th>\n",
       "      <td>1</td>\n",
       "      <td>1</td>\n",
       "      <td>7.8</td>\n",
       "      <td>11.64</td>\n",
       "      <td>199.18</td>\n",
       "      <td>146.53</td>\n",
       "      <td>12.62</td>\n",
       "      <td>12.44</td>\n",
       "      <td>3.81</td>\n",
       "      <td>.</td>\n",
       "      <td>...</td>\n",
       "      <td>43</td>\n",
       "      <td>.</td>\n",
       "      <td>.</td>\n",
       "      <td>.</td>\n",
       "      <td>.</td>\n",
       "      <td>.</td>\n",
       "      <td>.</td>\n",
       "      <td>.</td>\n",
       "      <td>35</td>\n",
       "      <td>8</td>\n",
       "    </tr>\n",
       "    <tr>\n",
       "      <th>1</th>\n",
       "      <td>2</td>\n",
       "      <td>2</td>\n",
       "      <td>32.23</td>\n",
       "      <td>.</td>\n",
       "      <td>.</td>\n",
       "      <td>.</td>\n",
       "      <td>.</td>\n",
       "      <td>.</td>\n",
       "      <td>.</td>\n",
       "      <td>17.9</td>\n",
       "      <td>...</td>\n",
       "      <td>7</td>\n",
       "      <td>4</td>\n",
       "      <td>1</td>\n",
       "      <td>.</td>\n",
       "      <td>.</td>\n",
       "      <td>.</td>\n",
       "      <td>.</td>\n",
       "      <td>.</td>\n",
       "      <td>7</td>\n",
       "      <td>5</td>\n",
       "    </tr>\n",
       "    <tr>\n",
       "      <th>2</th>\n",
       "      <td>3</td>\n",
       "      <td>3</td>\n",
       "      <td>.</td>\n",
       "      <td>.</td>\n",
       "      <td>.</td>\n",
       "      <td>.</td>\n",
       "      <td>.</td>\n",
       "      <td>.</td>\n",
       "      <td>102.74</td>\n",
       "      <td>.</td>\n",
       "      <td>...</td>\n",
       "      <td>5</td>\n",
       "      <td>.</td>\n",
       "      <td>.</td>\n",
       "      <td>3</td>\n",
       "      <td>.</td>\n",
       "      <td>.</td>\n",
       "      <td>.</td>\n",
       "      <td>.</td>\n",
       "      <td>3</td>\n",
       "      <td>5</td>\n",
       "    </tr>\n",
       "    <tr>\n",
       "      <th>3</th>\n",
       "      <td>4</td>\n",
       "      <td>4</td>\n",
       "      <td>8.62</td>\n",
       "      <td>.</td>\n",
       "      <td>69.97</td>\n",
       "      <td>18.21</td>\n",
       "      <td>279.55</td>\n",
       "      <td>.</td>\n",
       "      <td>13.86</td>\n",
       "      <td>.</td>\n",
       "      <td>...</td>\n",
       "      <td>27</td>\n",
       "      <td>.</td>\n",
       "      <td>.</td>\n",
       "      <td>.</td>\n",
       "      <td>.</td>\n",
       "      <td>.</td>\n",
       "      <td>.</td>\n",
       "      <td>.</td>\n",
       "      <td>16</td>\n",
       "      <td>11</td>\n",
       "    </tr>\n",
       "    <tr>\n",
       "      <th>4</th>\n",
       "      <td>5</td>\n",
       "      <td>5</td>\n",
       "      <td>12.5</td>\n",
       "      <td>.</td>\n",
       "      <td>.</td>\n",
       "      <td>13.49</td>\n",
       "      <td>.</td>\n",
       "      <td>.</td>\n",
       "      <td>10.12</td>\n",
       "      <td>9.98</td>\n",
       "      <td>...</td>\n",
       "      <td>19</td>\n",
       "      <td>6</td>\n",
       "      <td>.</td>\n",
       "      <td>.</td>\n",
       "      <td>.</td>\n",
       "      <td>.</td>\n",
       "      <td>.</td>\n",
       "      <td>.</td>\n",
       "      <td>15</td>\n",
       "      <td>10</td>\n",
       "    </tr>\n",
       "  </tbody>\n",
       "</table>\n",
       "<p>5 rows × 444 columns</p>\n",
       "</div>"
      ],
      "text/plain": [
       "   Obs  CARDNO FOOD_GROCERY DRUGSTORES_PHARMACIES APPAREL_ACCESSORIES  \\\n",
       "0    1       1          7.8                 11.64              199.18   \n",
       "1    2       2        32.23                     .                   .   \n",
       "2    3       3            .                     .                   .   \n",
       "3    4       4         8.62                     .               69.97   \n",
       "4    5       5         12.5                     .                   .   \n",
       "\n",
       "  HOMEIMPROVEMENT_SUPPLY GENERALRETAILSERVICES HEALTHCARE DEPARTMENTSTORES  \\\n",
       "0                 146.53                 12.62      12.44             3.81   \n",
       "1                      .                     .          .                .   \n",
       "2                      .                     .          .           102.74   \n",
       "3                  18.21                279.55          .            13.86   \n",
       "4                  13.49                     .          .            10.12   \n",
       "\n",
       "  RESTAURANTS  ... DOM_f_FACE_TO_FACE_f DOM_f_ECI_f INT_f_ECI_f  \\\n",
       "0           .  ...                   43           .           .   \n",
       "1        17.9  ...                    7           4           1   \n",
       "2           .  ...                    5           .           .   \n",
       "3           .  ...                   27           .           .   \n",
       "4        9.98  ...                   19           6           .   \n",
       "\n",
       "  DOM_f_RECURRINGINSTALLMENT_f INT_f_FACE_TO_FACE_f DOM_f_MOTO_f INT_f_MOTO_f  \\\n",
       "0                            .                    .            .            .   \n",
       "1                            .                    .            .            .   \n",
       "2                            3                    .            .            .   \n",
       "3                            .                    .            .            .   \n",
       "4                            .                    .            .            .   \n",
       "\n",
       "  INT_f_RECURRINGINSTALLMENT_f Weekday Weekend  \n",
       "0                            .      35       8  \n",
       "1                            .       7       5  \n",
       "2                            .       3       5  \n",
       "3                            .      16      11  \n",
       "4                            .      15      10  \n",
       "\n",
       "[5 rows x 444 columns]"
      ]
     },
     "execution_count": 4,
     "metadata": {},
     "output_type": "execute_result"
    }
   ],
   "source": [
    "df.head()"
   ]
  },
  {
   "cell_type": "code",
   "execution_count": 5,
   "metadata": {},
   "outputs": [
    {
     "data": {
      "text/plain": [
       "(100, 444)"
      ]
     },
     "execution_count": 5,
     "metadata": {},
     "output_type": "execute_result"
    }
   ],
   "source": [
    "df.shape"
   ]
  },
  {
   "cell_type": "code",
   "execution_count": 6,
   "metadata": {},
   "outputs": [],
   "source": [
    "cardno = df['CARDNO']"
   ]
  },
  {
   "cell_type": "code",
   "execution_count": 7,
   "metadata": {},
   "outputs": [],
   "source": [
    "df = df.drop(df.columns[[0,1]], axis=1)"
   ]
  },
  {
   "cell_type": "code",
   "execution_count": 8,
   "metadata": {},
   "outputs": [
    {
     "data": {
      "text/html": [
       "<div>\n",
       "<style scoped>\n",
       "    .dataframe tbody tr th:only-of-type {\n",
       "        vertical-align: middle;\n",
       "    }\n",
       "\n",
       "    .dataframe tbody tr th {\n",
       "        vertical-align: top;\n",
       "    }\n",
       "\n",
       "    .dataframe thead th {\n",
       "        text-align: right;\n",
       "    }\n",
       "</style>\n",
       "<table border=\"1\" class=\"dataframe\">\n",
       "  <thead>\n",
       "    <tr style=\"text-align: right;\">\n",
       "      <th></th>\n",
       "      <th>FOOD_GROCERY</th>\n",
       "      <th>DRUGSTORES_PHARMACIES</th>\n",
       "      <th>APPAREL_ACCESSORIES</th>\n",
       "      <th>HOMEIMPROVEMENT_SUPPLY</th>\n",
       "      <th>GENERALRETAILSERVICES</th>\n",
       "      <th>HEALTHCARE</th>\n",
       "      <th>DEPARTMENTSTORES</th>\n",
       "      <th>RESTAURANTS</th>\n",
       "      <th>ELECTRONICS</th>\n",
       "      <th>GENERALRETAILGOODS</th>\n",
       "      <th>...</th>\n",
       "      <th>DOM_f_FACE_TO_FACE_f</th>\n",
       "      <th>DOM_f_ECI_f</th>\n",
       "      <th>INT_f_ECI_f</th>\n",
       "      <th>DOM_f_RECURRINGINSTALLMENT_f</th>\n",
       "      <th>INT_f_FACE_TO_FACE_f</th>\n",
       "      <th>DOM_f_MOTO_f</th>\n",
       "      <th>INT_f_MOTO_f</th>\n",
       "      <th>INT_f_RECURRINGINSTALLMENT_f</th>\n",
       "      <th>Weekday</th>\n",
       "      <th>Weekend</th>\n",
       "    </tr>\n",
       "  </thead>\n",
       "  <tbody>\n",
       "    <tr>\n",
       "      <th>0</th>\n",
       "      <td>7.8</td>\n",
       "      <td>11.64</td>\n",
       "      <td>199.18</td>\n",
       "      <td>146.53</td>\n",
       "      <td>12.62</td>\n",
       "      <td>12.44</td>\n",
       "      <td>3.81</td>\n",
       "      <td>.</td>\n",
       "      <td>.</td>\n",
       "      <td>.</td>\n",
       "      <td>...</td>\n",
       "      <td>43</td>\n",
       "      <td>.</td>\n",
       "      <td>.</td>\n",
       "      <td>.</td>\n",
       "      <td>.</td>\n",
       "      <td>.</td>\n",
       "      <td>.</td>\n",
       "      <td>.</td>\n",
       "      <td>35</td>\n",
       "      <td>8</td>\n",
       "    </tr>\n",
       "    <tr>\n",
       "      <th>1</th>\n",
       "      <td>32.23</td>\n",
       "      <td>.</td>\n",
       "      <td>.</td>\n",
       "      <td>.</td>\n",
       "      <td>.</td>\n",
       "      <td>.</td>\n",
       "      <td>.</td>\n",
       "      <td>17.9</td>\n",
       "      <td>2.73</td>\n",
       "      <td>30.15</td>\n",
       "      <td>...</td>\n",
       "      <td>7</td>\n",
       "      <td>4</td>\n",
       "      <td>1</td>\n",
       "      <td>.</td>\n",
       "      <td>.</td>\n",
       "      <td>.</td>\n",
       "      <td>.</td>\n",
       "      <td>.</td>\n",
       "      <td>7</td>\n",
       "      <td>5</td>\n",
       "    </tr>\n",
       "    <tr>\n",
       "      <th>2</th>\n",
       "      <td>.</td>\n",
       "      <td>.</td>\n",
       "      <td>.</td>\n",
       "      <td>.</td>\n",
       "      <td>.</td>\n",
       "      <td>.</td>\n",
       "      <td>102.74</td>\n",
       "      <td>.</td>\n",
       "      <td>.</td>\n",
       "      <td>.</td>\n",
       "      <td>...</td>\n",
       "      <td>5</td>\n",
       "      <td>.</td>\n",
       "      <td>.</td>\n",
       "      <td>3</td>\n",
       "      <td>.</td>\n",
       "      <td>.</td>\n",
       "      <td>.</td>\n",
       "      <td>.</td>\n",
       "      <td>3</td>\n",
       "      <td>5</td>\n",
       "    </tr>\n",
       "    <tr>\n",
       "      <th>3</th>\n",
       "      <td>8.62</td>\n",
       "      <td>.</td>\n",
       "      <td>69.97</td>\n",
       "      <td>18.21</td>\n",
       "      <td>279.55</td>\n",
       "      <td>.</td>\n",
       "      <td>13.86</td>\n",
       "      <td>.</td>\n",
       "      <td>.</td>\n",
       "      <td>134.27</td>\n",
       "      <td>...</td>\n",
       "      <td>27</td>\n",
       "      <td>.</td>\n",
       "      <td>.</td>\n",
       "      <td>.</td>\n",
       "      <td>.</td>\n",
       "      <td>.</td>\n",
       "      <td>.</td>\n",
       "      <td>.</td>\n",
       "      <td>16</td>\n",
       "      <td>11</td>\n",
       "    </tr>\n",
       "    <tr>\n",
       "      <th>4</th>\n",
       "      <td>12.5</td>\n",
       "      <td>.</td>\n",
       "      <td>.</td>\n",
       "      <td>13.49</td>\n",
       "      <td>.</td>\n",
       "      <td>.</td>\n",
       "      <td>10.12</td>\n",
       "      <td>9.98</td>\n",
       "      <td>.</td>\n",
       "      <td>45.31</td>\n",
       "      <td>...</td>\n",
       "      <td>19</td>\n",
       "      <td>6</td>\n",
       "      <td>.</td>\n",
       "      <td>.</td>\n",
       "      <td>.</td>\n",
       "      <td>.</td>\n",
       "      <td>.</td>\n",
       "      <td>.</td>\n",
       "      <td>15</td>\n",
       "      <td>10</td>\n",
       "    </tr>\n",
       "  </tbody>\n",
       "</table>\n",
       "<p>5 rows × 442 columns</p>\n",
       "</div>"
      ],
      "text/plain": [
       "  FOOD_GROCERY DRUGSTORES_PHARMACIES APPAREL_ACCESSORIES  \\\n",
       "0          7.8                 11.64              199.18   \n",
       "1        32.23                     .                   .   \n",
       "2            .                     .                   .   \n",
       "3         8.62                     .               69.97   \n",
       "4         12.5                     .                   .   \n",
       "\n",
       "  HOMEIMPROVEMENT_SUPPLY GENERALRETAILSERVICES HEALTHCARE DEPARTMENTSTORES  \\\n",
       "0                 146.53                 12.62      12.44             3.81   \n",
       "1                      .                     .          .                .   \n",
       "2                      .                     .          .           102.74   \n",
       "3                  18.21                279.55          .            13.86   \n",
       "4                  13.49                     .          .            10.12   \n",
       "\n",
       "  RESTAURANTS ELECTRONICS GENERALRETAILGOODS  ... DOM_f_FACE_TO_FACE_f  \\\n",
       "0           .           .                  .  ...                   43   \n",
       "1        17.9        2.73              30.15  ...                    7   \n",
       "2           .           .                  .  ...                    5   \n",
       "3           .           .             134.27  ...                   27   \n",
       "4        9.98           .              45.31  ...                   19   \n",
       "\n",
       "  DOM_f_ECI_f INT_f_ECI_f DOM_f_RECURRINGINSTALLMENT_f INT_f_FACE_TO_FACE_f  \\\n",
       "0           .           .                            .                    .   \n",
       "1           4           1                            .                    .   \n",
       "2           .           .                            3                    .   \n",
       "3           .           .                            .                    .   \n",
       "4           6           .                            .                    .   \n",
       "\n",
       "  DOM_f_MOTO_f INT_f_MOTO_f INT_f_RECURRINGINSTALLMENT_f Weekday Weekend  \n",
       "0            .            .                            .      35       8  \n",
       "1            .            .                            .       7       5  \n",
       "2            .            .                            .       3       5  \n",
       "3            .            .                            .      16      11  \n",
       "4            .            .                            .      15      10  \n",
       "\n",
       "[5 rows x 442 columns]"
      ]
     },
     "execution_count": 8,
     "metadata": {},
     "output_type": "execute_result"
    }
   ],
   "source": [
    "df.head()"
   ]
  },
  {
   "cell_type": "code",
   "execution_count": 9,
   "metadata": {},
   "outputs": [],
   "source": [
    "column_name = df.columns"
   ]
  },
  {
   "cell_type": "code",
   "execution_count": 10,
   "metadata": {},
   "outputs": [
    {
     "data": {
      "text/plain": [
       "Index(['FOOD_GROCERY', 'DRUGSTORES_PHARMACIES', 'APPAREL_ACCESSORIES',\n",
       "       'HOMEIMPROVEMENT_SUPPLY', 'GENERALRETAILSERVICES', 'HEALTHCARE',\n",
       "       'DEPARTMENTSTORES', 'RESTAURANTS', 'ELECTRONICS', 'GENERALRETAILGOODS',\n",
       "       ...\n",
       "       'DOM_f_FACE_TO_FACE_f', 'DOM_f_ECI_f', 'INT_f_ECI_f',\n",
       "       'DOM_f_RECURRINGINSTALLMENT_f', 'INT_f_FACE_TO_FACE_f', 'DOM_f_MOTO_f',\n",
       "       'INT_f_MOTO_f', 'INT_f_RECURRINGINSTALLMENT_f', 'Weekday', 'Weekend'],\n",
       "      dtype='object', length=442)"
      ]
     },
     "execution_count": 10,
     "metadata": {},
     "output_type": "execute_result"
    }
   ],
   "source": [
    "column_name"
   ]
  },
  {
   "cell_type": "code",
   "execution_count": 11,
   "metadata": {},
   "outputs": [],
   "source": [
    "df.fillna(0, inplace=True)"
   ]
  },
  {
   "cell_type": "code",
   "execution_count": 12,
   "metadata": {},
   "outputs": [],
   "source": [
    "df = df.replace({'.':0})"
   ]
  },
  {
   "cell_type": "code",
   "execution_count": 13,
   "metadata": {},
   "outputs": [
    {
     "data": {
      "text/html": [
       "<div>\n",
       "<style scoped>\n",
       "    .dataframe tbody tr th:only-of-type {\n",
       "        vertical-align: middle;\n",
       "    }\n",
       "\n",
       "    .dataframe tbody tr th {\n",
       "        vertical-align: top;\n",
       "    }\n",
       "\n",
       "    .dataframe thead th {\n",
       "        text-align: right;\n",
       "    }\n",
       "</style>\n",
       "<table border=\"1\" class=\"dataframe\">\n",
       "  <thead>\n",
       "    <tr style=\"text-align: right;\">\n",
       "      <th></th>\n",
       "      <th>FOOD_GROCERY</th>\n",
       "      <th>DRUGSTORES_PHARMACIES</th>\n",
       "      <th>APPAREL_ACCESSORIES</th>\n",
       "      <th>HOMEIMPROVEMENT_SUPPLY</th>\n",
       "      <th>GENERALRETAILSERVICES</th>\n",
       "      <th>HEALTHCARE</th>\n",
       "      <th>DEPARTMENTSTORES</th>\n",
       "      <th>RESTAURANTS</th>\n",
       "      <th>ELECTRONICS</th>\n",
       "      <th>GENERALRETAILGOODS</th>\n",
       "      <th>...</th>\n",
       "      <th>DOM_f_FACE_TO_FACE_f</th>\n",
       "      <th>DOM_f_ECI_f</th>\n",
       "      <th>INT_f_ECI_f</th>\n",
       "      <th>DOM_f_RECURRINGINSTALLMENT_f</th>\n",
       "      <th>INT_f_FACE_TO_FACE_f</th>\n",
       "      <th>DOM_f_MOTO_f</th>\n",
       "      <th>INT_f_MOTO_f</th>\n",
       "      <th>INT_f_RECURRINGINSTALLMENT_f</th>\n",
       "      <th>Weekday</th>\n",
       "      <th>Weekend</th>\n",
       "    </tr>\n",
       "  </thead>\n",
       "  <tbody>\n",
       "    <tr>\n",
       "      <th>0</th>\n",
       "      <td>7.80</td>\n",
       "      <td>11.64</td>\n",
       "      <td>199.18</td>\n",
       "      <td>146.53</td>\n",
       "      <td>12.62</td>\n",
       "      <td>12.44</td>\n",
       "      <td>3.81</td>\n",
       "      <td>0.00</td>\n",
       "      <td>0.00</td>\n",
       "      <td>0.00</td>\n",
       "      <td>...</td>\n",
       "      <td>43</td>\n",
       "      <td>0</td>\n",
       "      <td>0</td>\n",
       "      <td>0</td>\n",
       "      <td>0</td>\n",
       "      <td>0</td>\n",
       "      <td>0</td>\n",
       "      <td>0</td>\n",
       "      <td>35</td>\n",
       "      <td>8</td>\n",
       "    </tr>\n",
       "    <tr>\n",
       "      <th>1</th>\n",
       "      <td>32.23</td>\n",
       "      <td>0.00</td>\n",
       "      <td>0.00</td>\n",
       "      <td>0.00</td>\n",
       "      <td>0.00</td>\n",
       "      <td>0.00</td>\n",
       "      <td>0.00</td>\n",
       "      <td>17.90</td>\n",
       "      <td>2.73</td>\n",
       "      <td>30.15</td>\n",
       "      <td>...</td>\n",
       "      <td>7</td>\n",
       "      <td>4</td>\n",
       "      <td>1</td>\n",
       "      <td>0</td>\n",
       "      <td>0</td>\n",
       "      <td>0</td>\n",
       "      <td>0</td>\n",
       "      <td>0</td>\n",
       "      <td>7</td>\n",
       "      <td>5</td>\n",
       "    </tr>\n",
       "    <tr>\n",
       "      <th>2</th>\n",
       "      <td>0.00</td>\n",
       "      <td>0.00</td>\n",
       "      <td>0.00</td>\n",
       "      <td>0.00</td>\n",
       "      <td>0.00</td>\n",
       "      <td>0.00</td>\n",
       "      <td>102.74</td>\n",
       "      <td>0.00</td>\n",
       "      <td>0.00</td>\n",
       "      <td>0.00</td>\n",
       "      <td>...</td>\n",
       "      <td>5</td>\n",
       "      <td>0</td>\n",
       "      <td>0</td>\n",
       "      <td>3</td>\n",
       "      <td>0</td>\n",
       "      <td>0</td>\n",
       "      <td>0</td>\n",
       "      <td>0</td>\n",
       "      <td>3</td>\n",
       "      <td>5</td>\n",
       "    </tr>\n",
       "    <tr>\n",
       "      <th>3</th>\n",
       "      <td>8.62</td>\n",
       "      <td>0.00</td>\n",
       "      <td>69.97</td>\n",
       "      <td>18.21</td>\n",
       "      <td>279.55</td>\n",
       "      <td>0.00</td>\n",
       "      <td>13.86</td>\n",
       "      <td>0.00</td>\n",
       "      <td>0.00</td>\n",
       "      <td>134.27</td>\n",
       "      <td>...</td>\n",
       "      <td>27</td>\n",
       "      <td>0</td>\n",
       "      <td>0</td>\n",
       "      <td>0</td>\n",
       "      <td>0</td>\n",
       "      <td>0</td>\n",
       "      <td>0</td>\n",
       "      <td>0</td>\n",
       "      <td>16</td>\n",
       "      <td>11</td>\n",
       "    </tr>\n",
       "    <tr>\n",
       "      <th>4</th>\n",
       "      <td>12.50</td>\n",
       "      <td>0.00</td>\n",
       "      <td>0.00</td>\n",
       "      <td>13.49</td>\n",
       "      <td>0.00</td>\n",
       "      <td>0.00</td>\n",
       "      <td>10.12</td>\n",
       "      <td>9.98</td>\n",
       "      <td>0.00</td>\n",
       "      <td>45.31</td>\n",
       "      <td>...</td>\n",
       "      <td>19</td>\n",
       "      <td>6</td>\n",
       "      <td>0</td>\n",
       "      <td>0</td>\n",
       "      <td>0</td>\n",
       "      <td>0</td>\n",
       "      <td>0</td>\n",
       "      <td>0</td>\n",
       "      <td>15</td>\n",
       "      <td>10</td>\n",
       "    </tr>\n",
       "  </tbody>\n",
       "</table>\n",
       "<p>5 rows × 442 columns</p>\n",
       "</div>"
      ],
      "text/plain": [
       "   FOOD_GROCERY  DRUGSTORES_PHARMACIES  APPAREL_ACCESSORIES  \\\n",
       "0          7.80                  11.64               199.18   \n",
       "1         32.23                   0.00                 0.00   \n",
       "2          0.00                   0.00                 0.00   \n",
       "3          8.62                   0.00                69.97   \n",
       "4         12.50                   0.00                 0.00   \n",
       "\n",
       "   HOMEIMPROVEMENT_SUPPLY  GENERALRETAILSERVICES  HEALTHCARE  \\\n",
       "0                  146.53                  12.62       12.44   \n",
       "1                    0.00                   0.00        0.00   \n",
       "2                    0.00                   0.00        0.00   \n",
       "3                   18.21                 279.55        0.00   \n",
       "4                   13.49                   0.00        0.00   \n",
       "\n",
       "   DEPARTMENTSTORES  RESTAURANTS  ELECTRONICS  GENERALRETAILGOODS  ...  \\\n",
       "0              3.81         0.00         0.00                0.00  ...   \n",
       "1              0.00        17.90         2.73               30.15  ...   \n",
       "2            102.74         0.00         0.00                0.00  ...   \n",
       "3             13.86         0.00         0.00              134.27  ...   \n",
       "4             10.12         9.98         0.00               45.31  ...   \n",
       "\n",
       "   DOM_f_FACE_TO_FACE_f  DOM_f_ECI_f  INT_f_ECI_f  \\\n",
       "0                    43            0            0   \n",
       "1                     7            4            1   \n",
       "2                     5            0            0   \n",
       "3                    27            0            0   \n",
       "4                    19            6            0   \n",
       "\n",
       "   DOM_f_RECURRINGINSTALLMENT_f  INT_f_FACE_TO_FACE_f  DOM_f_MOTO_f  \\\n",
       "0                             0                     0             0   \n",
       "1                             0                     0             0   \n",
       "2                             3                     0             0   \n",
       "3                             0                     0             0   \n",
       "4                             0                     0             0   \n",
       "\n",
       "   INT_f_MOTO_f  INT_f_RECURRINGINSTALLMENT_f  Weekday  Weekend  \n",
       "0             0                             0       35        8  \n",
       "1             0                             0        7        5  \n",
       "2             0                             0        3        5  \n",
       "3             0                             0       16       11  \n",
       "4             0                             0       15       10  \n",
       "\n",
       "[5 rows x 442 columns]"
      ]
     },
     "execution_count": 13,
     "metadata": {},
     "output_type": "execute_result"
    }
   ],
   "source": [
    "df.head()"
   ]
  },
  {
   "cell_type": "code",
   "execution_count": 14,
   "metadata": {},
   "outputs": [],
   "source": [
    "df = df.apply(pd.to_numeric)"
   ]
  },
  {
   "cell_type": "code",
   "execution_count": 16,
   "metadata": {},
   "outputs": [],
   "source": [
    "zscore = np.abs(stats.zscore(df, axis=1))"
   ]
  },
  {
   "cell_type": "code",
   "execution_count": 17,
   "metadata": {},
   "outputs": [],
   "source": [
    "df_zscore = pd.DataFrame.from_records(z, columns=column_name)"
   ]
  },
  {
   "cell_type": "code",
   "execution_count": 18,
   "metadata": {},
   "outputs": [],
   "source": [
    "# df_zscore.to_csv('zscore.csv', index=False)"
   ]
  },
  {
   "cell_type": "code",
   "execution_count": 19,
   "metadata": {},
   "outputs": [],
   "source": [
    "zscore_index = np.where(z>8)"
   ]
  },
  {
   "cell_type": "code",
   "execution_count": 49,
   "metadata": {},
   "outputs": [],
   "source": [
    "row_drop = sorted(set(zscore_index[0]))"
   ]
  },
  {
   "cell_type": "code",
   "execution_count": 50,
   "metadata": {},
   "outputs": [
    {
     "data": {
      "text/plain": [
       "58"
      ]
     },
     "execution_count": 50,
     "metadata": {},
     "output_type": "execute_result"
    }
   ],
   "source": [
    "len(row_drop)"
   ]
  },
  {
   "cell_type": "code",
   "execution_count": 53,
   "metadata": {},
   "outputs": [
    {
     "name": "stdout",
     "output_type": "stream",
     "text": [
      "[0, 1, 2, 3, 4, 5, 9, 10, 11, 12, 15, 16, 17, 19, 20, 22, 23, 24, 25, 26, 27, 28, 29, 31, 32, 35, 36, 37, 38, 39, 41, 42, 43, 44, 45, 46, 49, 54, 57, 59, 60, 61, 64, 67, 68, 70, 75, 77, 83, 84, 89, 90, 91, 92, 93, 96, 97, 99]\n"
     ]
    }
   ],
   "source": [
    "print(row_drop)"
   ]
  },
  {
   "cell_type": "code",
   "execution_count": 26,
   "metadata": {},
   "outputs": [],
   "source": [
    "df_no_outlier = df.drop(row_drop)"
   ]
  },
  {
   "cell_type": "code",
   "execution_count": 27,
   "metadata": {},
   "outputs": [
    {
     "data": {
      "text/plain": [
       "(42, 442)"
      ]
     },
     "execution_count": 27,
     "metadata": {},
     "output_type": "execute_result"
    }
   ],
   "source": [
    "df_no_outlier.shape"
   ]
  },
  {
   "cell_type": "code",
   "execution_count": 28,
   "metadata": {},
   "outputs": [
    {
     "data": {
      "text/html": [
       "<div>\n",
       "<style scoped>\n",
       "    .dataframe tbody tr th:only-of-type {\n",
       "        vertical-align: middle;\n",
       "    }\n",
       "\n",
       "    .dataframe tbody tr th {\n",
       "        vertical-align: top;\n",
       "    }\n",
       "\n",
       "    .dataframe thead th {\n",
       "        text-align: right;\n",
       "    }\n",
       "</style>\n",
       "<table border=\"1\" class=\"dataframe\">\n",
       "  <thead>\n",
       "    <tr style=\"text-align: right;\">\n",
       "      <th></th>\n",
       "      <th>FOOD_GROCERY</th>\n",
       "      <th>DRUGSTORES_PHARMACIES</th>\n",
       "      <th>APPAREL_ACCESSORIES</th>\n",
       "      <th>HOMEIMPROVEMENT_SUPPLY</th>\n",
       "      <th>GENERALRETAILSERVICES</th>\n",
       "      <th>HEALTHCARE</th>\n",
       "      <th>DEPARTMENTSTORES</th>\n",
       "      <th>RESTAURANTS</th>\n",
       "      <th>ELECTRONICS</th>\n",
       "      <th>GENERALRETAILGOODS</th>\n",
       "      <th>...</th>\n",
       "      <th>DOM_f_FACE_TO_FACE_f</th>\n",
       "      <th>DOM_f_ECI_f</th>\n",
       "      <th>INT_f_ECI_f</th>\n",
       "      <th>DOM_f_RECURRINGINSTALLMENT_f</th>\n",
       "      <th>INT_f_FACE_TO_FACE_f</th>\n",
       "      <th>DOM_f_MOTO_f</th>\n",
       "      <th>INT_f_MOTO_f</th>\n",
       "      <th>INT_f_RECURRINGINSTALLMENT_f</th>\n",
       "      <th>Weekday</th>\n",
       "      <th>Weekend</th>\n",
       "    </tr>\n",
       "  </thead>\n",
       "  <tbody>\n",
       "    <tr>\n",
       "      <th>6</th>\n",
       "      <td>0.00</td>\n",
       "      <td>0.0</td>\n",
       "      <td>81.07</td>\n",
       "      <td>69.02</td>\n",
       "      <td>21.17</td>\n",
       "      <td>0.0</td>\n",
       "      <td>0.0</td>\n",
       "      <td>0.0</td>\n",
       "      <td>0.0</td>\n",
       "      <td>0.00</td>\n",
       "      <td>...</td>\n",
       "      <td>6</td>\n",
       "      <td>0</td>\n",
       "      <td>0</td>\n",
       "      <td>0</td>\n",
       "      <td>0</td>\n",
       "      <td>0</td>\n",
       "      <td>0</td>\n",
       "      <td>0</td>\n",
       "      <td>6</td>\n",
       "      <td>0</td>\n",
       "    </tr>\n",
       "    <tr>\n",
       "      <th>7</th>\n",
       "      <td>0.00</td>\n",
       "      <td>0.0</td>\n",
       "      <td>0.00</td>\n",
       "      <td>0.00</td>\n",
       "      <td>0.00</td>\n",
       "      <td>0.0</td>\n",
       "      <td>0.0</td>\n",
       "      <td>0.0</td>\n",
       "      <td>0.0</td>\n",
       "      <td>0.00</td>\n",
       "      <td>...</td>\n",
       "      <td>0</td>\n",
       "      <td>0</td>\n",
       "      <td>0</td>\n",
       "      <td>34</td>\n",
       "      <td>0</td>\n",
       "      <td>0</td>\n",
       "      <td>0</td>\n",
       "      <td>0</td>\n",
       "      <td>34</td>\n",
       "      <td>0</td>\n",
       "    </tr>\n",
       "    <tr>\n",
       "      <th>8</th>\n",
       "      <td>154.70</td>\n",
       "      <td>0.0</td>\n",
       "      <td>0.00</td>\n",
       "      <td>89.76</td>\n",
       "      <td>0.00</td>\n",
       "      <td>0.0</td>\n",
       "      <td>0.0</td>\n",
       "      <td>0.0</td>\n",
       "      <td>0.0</td>\n",
       "      <td>205.11</td>\n",
       "      <td>...</td>\n",
       "      <td>14</td>\n",
       "      <td>0</td>\n",
       "      <td>0</td>\n",
       "      <td>0</td>\n",
       "      <td>0</td>\n",
       "      <td>0</td>\n",
       "      <td>0</td>\n",
       "      <td>0</td>\n",
       "      <td>12</td>\n",
       "      <td>2</td>\n",
       "    </tr>\n",
       "    <tr>\n",
       "      <th>13</th>\n",
       "      <td>14.72</td>\n",
       "      <td>0.0</td>\n",
       "      <td>0.00</td>\n",
       "      <td>0.00</td>\n",
       "      <td>0.00</td>\n",
       "      <td>0.0</td>\n",
       "      <td>6.0</td>\n",
       "      <td>0.0</td>\n",
       "      <td>0.0</td>\n",
       "      <td>0.00</td>\n",
       "      <td>...</td>\n",
       "      <td>0</td>\n",
       "      <td>18</td>\n",
       "      <td>0</td>\n",
       "      <td>0</td>\n",
       "      <td>0</td>\n",
       "      <td>0</td>\n",
       "      <td>0</td>\n",
       "      <td>0</td>\n",
       "      <td>14</td>\n",
       "      <td>4</td>\n",
       "    </tr>\n",
       "    <tr>\n",
       "      <th>14</th>\n",
       "      <td>58.83</td>\n",
       "      <td>0.0</td>\n",
       "      <td>23.28</td>\n",
       "      <td>20.62</td>\n",
       "      <td>0.00</td>\n",
       "      <td>0.0</td>\n",
       "      <td>41.7</td>\n",
       "      <td>0.0</td>\n",
       "      <td>0.0</td>\n",
       "      <td>0.00</td>\n",
       "      <td>...</td>\n",
       "      <td>14</td>\n",
       "      <td>0</td>\n",
       "      <td>0</td>\n",
       "      <td>0</td>\n",
       "      <td>0</td>\n",
       "      <td>0</td>\n",
       "      <td>0</td>\n",
       "      <td>0</td>\n",
       "      <td>11</td>\n",
       "      <td>3</td>\n",
       "    </tr>\n",
       "  </tbody>\n",
       "</table>\n",
       "<p>5 rows × 442 columns</p>\n",
       "</div>"
      ],
      "text/plain": [
       "    FOOD_GROCERY  DRUGSTORES_PHARMACIES  APPAREL_ACCESSORIES  \\\n",
       "6           0.00                    0.0                81.07   \n",
       "7           0.00                    0.0                 0.00   \n",
       "8         154.70                    0.0                 0.00   \n",
       "13         14.72                    0.0                 0.00   \n",
       "14         58.83                    0.0                23.28   \n",
       "\n",
       "    HOMEIMPROVEMENT_SUPPLY  GENERALRETAILSERVICES  HEALTHCARE  \\\n",
       "6                    69.02                  21.17         0.0   \n",
       "7                     0.00                   0.00         0.0   \n",
       "8                    89.76                   0.00         0.0   \n",
       "13                    0.00                   0.00         0.0   \n",
       "14                   20.62                   0.00         0.0   \n",
       "\n",
       "    DEPARTMENTSTORES  RESTAURANTS  ELECTRONICS  GENERALRETAILGOODS  ...  \\\n",
       "6                0.0          0.0          0.0                0.00  ...   \n",
       "7                0.0          0.0          0.0                0.00  ...   \n",
       "8                0.0          0.0          0.0              205.11  ...   \n",
       "13               6.0          0.0          0.0                0.00  ...   \n",
       "14              41.7          0.0          0.0                0.00  ...   \n",
       "\n",
       "    DOM_f_FACE_TO_FACE_f  DOM_f_ECI_f  INT_f_ECI_f  \\\n",
       "6                      6            0            0   \n",
       "7                      0            0            0   \n",
       "8                     14            0            0   \n",
       "13                     0           18            0   \n",
       "14                    14            0            0   \n",
       "\n",
       "    DOM_f_RECURRINGINSTALLMENT_f  INT_f_FACE_TO_FACE_f  DOM_f_MOTO_f  \\\n",
       "6                              0                     0             0   \n",
       "7                             34                     0             0   \n",
       "8                              0                     0             0   \n",
       "13                             0                     0             0   \n",
       "14                             0                     0             0   \n",
       "\n",
       "    INT_f_MOTO_f  INT_f_RECURRINGINSTALLMENT_f  Weekday  Weekend  \n",
       "6              0                             0        6        0  \n",
       "7              0                             0       34        0  \n",
       "8              0                             0       12        2  \n",
       "13             0                             0       14        4  \n",
       "14             0                             0       11        3  \n",
       "\n",
       "[5 rows x 442 columns]"
      ]
     },
     "execution_count": 28,
     "metadata": {},
     "output_type": "execute_result"
    }
   ],
   "source": [
    "df_no_outlier.head()"
   ]
  },
  {
   "cell_type": "code",
   "execution_count": 114,
   "metadata": {},
   "outputs": [],
   "source": [
    "cardno_no_outlier = cardno.drop(row_drop).tolist()"
   ]
  },
  {
   "cell_type": "code",
   "execution_count": 116,
   "metadata": {},
   "outputs": [
    {
     "data": {
      "text/plain": [
       "42"
      ]
     },
     "execution_count": 116,
     "metadata": {},
     "output_type": "execute_result"
    }
   ],
   "source": [
    "len(cardno_no_outlier)"
   ]
  },
  {
   "cell_type": "code",
   "execution_count": 120,
   "metadata": {},
   "outputs": [
    {
     "data": {
      "text/plain": [
       "[7, 8, 9, 14, 15, 19, 22, 31, 34, 35]"
      ]
     },
     "execution_count": 120,
     "metadata": {},
     "output_type": "execute_result"
    }
   ],
   "source": [
    "cardno_no_outlier[:10]"
   ]
  },
  {
   "cell_type": "code",
   "execution_count": 29,
   "metadata": {},
   "outputs": [
    {
     "name": "stderr",
     "output_type": "stream",
     "text": [
      "/anaconda3/lib/python3.7/site-packages/sklearn/preprocessing/data.py:334: DataConversionWarning: Data with input dtype int64, float64 were all converted to float64 by MinMaxScaler.\n",
      "  return self.partial_fit(X, y)\n"
     ]
    }
   ],
   "source": [
    "scaler = MinMaxScaler().fit(df_no_outlier)"
   ]
  },
  {
   "cell_type": "code",
   "execution_count": 30,
   "metadata": {},
   "outputs": [],
   "source": [
    "scaled = scaler.transform(df_no_outlier)"
   ]
  },
  {
   "cell_type": "code",
   "execution_count": 31,
   "metadata": {},
   "outputs": [
    {
     "data": {
      "text/plain": [
       "(42, 442)"
      ]
     },
     "execution_count": 31,
     "metadata": {},
     "output_type": "execute_result"
    }
   ],
   "source": [
    "scaled.shape"
   ]
  },
  {
   "cell_type": "code",
   "execution_count": 36,
   "metadata": {},
   "outputs": [],
   "source": [
    "kmeans = KMeans(n_clusters=10, precompute_distances=\"auto\", n_jobs=-1).fit(scaled)\n",
    "clusters = kmeans.predict(scaled)"
   ]
  },
  {
   "cell_type": "code",
   "execution_count": 37,
   "metadata": {},
   "outputs": [
    {
     "data": {
      "text/plain": [
       "array([1, 1, 1, 1, 1, 1, 1, 0, 1, 1, 6, 7, 1, 5, 4, 1, 1, 1, 1, 1, 1, 1,\n",
       "       1, 3, 1, 1, 1, 1, 1, 1, 1, 9, 1, 8, 1, 1, 1, 7, 1, 2, 1, 7],\n",
       "      dtype=int32)"
      ]
     },
     "execution_count": 37,
     "metadata": {},
     "output_type": "execute_result"
    }
   ],
   "source": [
    "clusters"
   ]
  },
  {
   "cell_type": "code",
   "execution_count": 38,
   "metadata": {},
   "outputs": [
    {
     "data": {
      "text/plain": [
       "['model_scaler.pkl']"
      ]
     },
     "execution_count": 38,
     "metadata": {},
     "output_type": "execute_result"
    }
   ],
   "source": [
    "joblib.dump(scaler, 'model_scaler.pkl')"
   ]
  },
  {
   "cell_type": "code",
   "execution_count": 39,
   "metadata": {},
   "outputs": [
    {
     "data": {
      "text/plain": [
       "['model_kmeans.pkl']"
      ]
     },
     "execution_count": 39,
     "metadata": {},
     "output_type": "execute_result"
    }
   ],
   "source": [
    "joblib.dump(kmeans, 'model_kmeans.pkl')"
   ]
  },
  {
   "cell_type": "code",
   "execution_count": 40,
   "metadata": {},
   "outputs": [],
   "source": [
    "df_scaled = pd.DataFrame.from_records(scaled, columns=column_name)"
   ]
  },
  {
   "cell_type": "code",
   "execution_count": 41,
   "metadata": {},
   "outputs": [],
   "source": [
    "df_scaled['cluster'] = clusters"
   ]
  },
  {
   "cell_type": "code",
   "execution_count": 101,
   "metadata": {},
   "outputs": [
    {
     "data": {
      "text/plain": [
       "(42, 443)"
      ]
     },
     "execution_count": 101,
     "metadata": {},
     "output_type": "execute_result"
    }
   ],
   "source": [
    "df_scaled.shape"
   ]
  },
  {
   "cell_type": "code",
   "execution_count": 103,
   "metadata": {},
   "outputs": [
    {
     "data": {
      "text/plain": [
       "(42,)"
      ]
     },
     "execution_count": 103,
     "metadata": {},
     "output_type": "execute_result"
    }
   ],
   "source": [
    "cardno_no_outlier.shape"
   ]
  },
  {
   "cell_type": "code",
   "execution_count": 121,
   "metadata": {},
   "outputs": [],
   "source": [
    "df_scaled['cardno'] = cardno_no_outlier"
   ]
  },
  {
   "cell_type": "code",
   "execution_count": 122,
   "metadata": {},
   "outputs": [
    {
     "data": {
      "text/html": [
       "<div>\n",
       "<style scoped>\n",
       "    .dataframe tbody tr th:only-of-type {\n",
       "        vertical-align: middle;\n",
       "    }\n",
       "\n",
       "    .dataframe tbody tr th {\n",
       "        vertical-align: top;\n",
       "    }\n",
       "\n",
       "    .dataframe thead th {\n",
       "        text-align: right;\n",
       "    }\n",
       "</style>\n",
       "<table border=\"1\" class=\"dataframe\">\n",
       "  <thead>\n",
       "    <tr style=\"text-align: right;\">\n",
       "      <th></th>\n",
       "      <th>FOOD_GROCERY</th>\n",
       "      <th>DRUGSTORES_PHARMACIES</th>\n",
       "      <th>APPAREL_ACCESSORIES</th>\n",
       "      <th>HOMEIMPROVEMENT_SUPPLY</th>\n",
       "      <th>GENERALRETAILSERVICES</th>\n",
       "      <th>HEALTHCARE</th>\n",
       "      <th>DEPARTMENTSTORES</th>\n",
       "      <th>RESTAURANTS</th>\n",
       "      <th>ELECTRONICS</th>\n",
       "      <th>GENERALRETAILGOODS</th>\n",
       "      <th>...</th>\n",
       "      <th>INT_f_ECI_f</th>\n",
       "      <th>DOM_f_RECURRINGINSTALLMENT_f</th>\n",
       "      <th>INT_f_FACE_TO_FACE_f</th>\n",
       "      <th>DOM_f_MOTO_f</th>\n",
       "      <th>INT_f_MOTO_f</th>\n",
       "      <th>INT_f_RECURRINGINSTALLMENT_f</th>\n",
       "      <th>Weekday</th>\n",
       "      <th>Weekend</th>\n",
       "      <th>cluster</th>\n",
       "      <th>cardno</th>\n",
       "    </tr>\n",
       "  </thead>\n",
       "  <tbody>\n",
       "    <tr>\n",
       "      <th>0</th>\n",
       "      <td>0.000000</td>\n",
       "      <td>0.0</td>\n",
       "      <td>0.088485</td>\n",
       "      <td>0.220216</td>\n",
       "      <td>0.847817</td>\n",
       "      <td>0.000000</td>\n",
       "      <td>0.000000</td>\n",
       "      <td>0.000000</td>\n",
       "      <td>0.000000</td>\n",
       "      <td>0.000000</td>\n",
       "      <td>...</td>\n",
       "      <td>0.000000</td>\n",
       "      <td>0.0</td>\n",
       "      <td>0.0</td>\n",
       "      <td>0.0</td>\n",
       "      <td>0.0</td>\n",
       "      <td>0.0</td>\n",
       "      <td>0.048387</td>\n",
       "      <td>0.000000</td>\n",
       "      <td>1</td>\n",
       "      <td>7</td>\n",
       "    </tr>\n",
       "    <tr>\n",
       "      <th>1</th>\n",
       "      <td>0.000000</td>\n",
       "      <td>0.0</td>\n",
       "      <td>0.000000</td>\n",
       "      <td>0.000000</td>\n",
       "      <td>0.000000</td>\n",
       "      <td>0.000000</td>\n",
       "      <td>0.000000</td>\n",
       "      <td>0.000000</td>\n",
       "      <td>0.000000</td>\n",
       "      <td>0.000000</td>\n",
       "      <td>...</td>\n",
       "      <td>0.000000</td>\n",
       "      <td>1.0</td>\n",
       "      <td>0.0</td>\n",
       "      <td>0.0</td>\n",
       "      <td>0.0</td>\n",
       "      <td>0.0</td>\n",
       "      <td>0.274194</td>\n",
       "      <td>0.000000</td>\n",
       "      <td>1</td>\n",
       "      <td>8</td>\n",
       "    </tr>\n",
       "    <tr>\n",
       "      <th>2</th>\n",
       "      <td>1.000000</td>\n",
       "      <td>0.0</td>\n",
       "      <td>0.000000</td>\n",
       "      <td>0.286389</td>\n",
       "      <td>0.000000</td>\n",
       "      <td>0.000000</td>\n",
       "      <td>0.000000</td>\n",
       "      <td>0.000000</td>\n",
       "      <td>0.000000</td>\n",
       "      <td>0.646933</td>\n",
       "      <td>...</td>\n",
       "      <td>0.000000</td>\n",
       "      <td>0.0</td>\n",
       "      <td>0.0</td>\n",
       "      <td>0.0</td>\n",
       "      <td>0.0</td>\n",
       "      <td>0.0</td>\n",
       "      <td>0.096774</td>\n",
       "      <td>0.031250</td>\n",
       "      <td>1</td>\n",
       "      <td>9</td>\n",
       "    </tr>\n",
       "    <tr>\n",
       "      <th>3</th>\n",
       "      <td>0.095152</td>\n",
       "      <td>0.0</td>\n",
       "      <td>0.000000</td>\n",
       "      <td>0.000000</td>\n",
       "      <td>0.000000</td>\n",
       "      <td>0.000000</td>\n",
       "      <td>0.019026</td>\n",
       "      <td>0.000000</td>\n",
       "      <td>0.000000</td>\n",
       "      <td>0.000000</td>\n",
       "      <td>...</td>\n",
       "      <td>0.000000</td>\n",
       "      <td>0.0</td>\n",
       "      <td>0.0</td>\n",
       "      <td>0.0</td>\n",
       "      <td>0.0</td>\n",
       "      <td>0.0</td>\n",
       "      <td>0.112903</td>\n",
       "      <td>0.062500</td>\n",
       "      <td>1</td>\n",
       "      <td>14</td>\n",
       "    </tr>\n",
       "    <tr>\n",
       "      <th>4</th>\n",
       "      <td>0.380284</td>\n",
       "      <td>0.0</td>\n",
       "      <td>0.025409</td>\n",
       "      <td>0.065790</td>\n",
       "      <td>0.000000</td>\n",
       "      <td>0.000000</td>\n",
       "      <td>0.132230</td>\n",
       "      <td>0.000000</td>\n",
       "      <td>0.000000</td>\n",
       "      <td>0.000000</td>\n",
       "      <td>...</td>\n",
       "      <td>0.000000</td>\n",
       "      <td>0.0</td>\n",
       "      <td>0.0</td>\n",
       "      <td>0.0</td>\n",
       "      <td>0.0</td>\n",
       "      <td>0.0</td>\n",
       "      <td>0.088710</td>\n",
       "      <td>0.046875</td>\n",
       "      <td>1</td>\n",
       "      <td>15</td>\n",
       "    </tr>\n",
       "    <tr>\n",
       "      <th>5</th>\n",
       "      <td>0.015191</td>\n",
       "      <td>0.0</td>\n",
       "      <td>0.061373</td>\n",
       "      <td>0.341937</td>\n",
       "      <td>0.000000</td>\n",
       "      <td>0.130314</td>\n",
       "      <td>0.035261</td>\n",
       "      <td>0.078232</td>\n",
       "      <td>0.543787</td>\n",
       "      <td>0.342470</td>\n",
       "      <td>...</td>\n",
       "      <td>0.000000</td>\n",
       "      <td>0.0</td>\n",
       "      <td>0.0</td>\n",
       "      <td>0.0</td>\n",
       "      <td>0.0</td>\n",
       "      <td>0.0</td>\n",
       "      <td>0.217742</td>\n",
       "      <td>0.125000</td>\n",
       "      <td>1</td>\n",
       "      <td>19</td>\n",
       "    </tr>\n",
       "    <tr>\n",
       "      <th>6</th>\n",
       "      <td>0.246865</td>\n",
       "      <td>0.0</td>\n",
       "      <td>0.010052</td>\n",
       "      <td>0.000000</td>\n",
       "      <td>0.000000</td>\n",
       "      <td>0.000000</td>\n",
       "      <td>0.136542</td>\n",
       "      <td>0.000000</td>\n",
       "      <td>0.000000</td>\n",
       "      <td>0.000000</td>\n",
       "      <td>...</td>\n",
       "      <td>0.000000</td>\n",
       "      <td>0.0</td>\n",
       "      <td>0.0</td>\n",
       "      <td>0.0</td>\n",
       "      <td>0.0</td>\n",
       "      <td>0.0</td>\n",
       "      <td>0.048387</td>\n",
       "      <td>0.015625</td>\n",
       "      <td>1</td>\n",
       "      <td>22</td>\n",
       "    </tr>\n",
       "    <tr>\n",
       "      <th>7</th>\n",
       "      <td>0.000000</td>\n",
       "      <td>0.0</td>\n",
       "      <td>0.000000</td>\n",
       "      <td>0.000000</td>\n",
       "      <td>0.000000</td>\n",
       "      <td>0.000000</td>\n",
       "      <td>0.000000</td>\n",
       "      <td>0.000000</td>\n",
       "      <td>0.000000</td>\n",
       "      <td>0.000000</td>\n",
       "      <td>...</td>\n",
       "      <td>0.012821</td>\n",
       "      <td>0.0</td>\n",
       "      <td>0.0</td>\n",
       "      <td>0.0</td>\n",
       "      <td>0.0</td>\n",
       "      <td>0.0</td>\n",
       "      <td>0.000000</td>\n",
       "      <td>0.031250</td>\n",
       "      <td>0</td>\n",
       "      <td>31</td>\n",
       "    </tr>\n",
       "    <tr>\n",
       "      <th>8</th>\n",
       "      <td>0.039496</td>\n",
       "      <td>0.0</td>\n",
       "      <td>0.022735</td>\n",
       "      <td>0.000000</td>\n",
       "      <td>0.000000</td>\n",
       "      <td>0.000000</td>\n",
       "      <td>0.033771</td>\n",
       "      <td>0.000000</td>\n",
       "      <td>0.000000</td>\n",
       "      <td>0.000000</td>\n",
       "      <td>...</td>\n",
       "      <td>0.000000</td>\n",
       "      <td>0.0</td>\n",
       "      <td>0.0</td>\n",
       "      <td>0.0</td>\n",
       "      <td>0.0</td>\n",
       "      <td>0.0</td>\n",
       "      <td>0.120968</td>\n",
       "      <td>0.015625</td>\n",
       "      <td>1</td>\n",
       "      <td>34</td>\n",
       "    </tr>\n",
       "    <tr>\n",
       "      <th>9</th>\n",
       "      <td>0.000000</td>\n",
       "      <td>1.0</td>\n",
       "      <td>0.000000</td>\n",
       "      <td>0.000000</td>\n",
       "      <td>0.000000</td>\n",
       "      <td>0.080094</td>\n",
       "      <td>0.000000</td>\n",
       "      <td>0.000000</td>\n",
       "      <td>0.000000</td>\n",
       "      <td>0.000000</td>\n",
       "      <td>...</td>\n",
       "      <td>0.000000</td>\n",
       "      <td>0.0</td>\n",
       "      <td>0.0</td>\n",
       "      <td>0.0</td>\n",
       "      <td>0.0</td>\n",
       "      <td>0.0</td>\n",
       "      <td>0.032258</td>\n",
       "      <td>0.000000</td>\n",
       "      <td>1</td>\n",
       "      <td>35</td>\n",
       "    </tr>\n",
       "  </tbody>\n",
       "</table>\n",
       "<p>10 rows × 444 columns</p>\n",
       "</div>"
      ],
      "text/plain": [
       "   FOOD_GROCERY  DRUGSTORES_PHARMACIES  APPAREL_ACCESSORIES  \\\n",
       "0      0.000000                    0.0             0.088485   \n",
       "1      0.000000                    0.0             0.000000   \n",
       "2      1.000000                    0.0             0.000000   \n",
       "3      0.095152                    0.0             0.000000   \n",
       "4      0.380284                    0.0             0.025409   \n",
       "5      0.015191                    0.0             0.061373   \n",
       "6      0.246865                    0.0             0.010052   \n",
       "7      0.000000                    0.0             0.000000   \n",
       "8      0.039496                    0.0             0.022735   \n",
       "9      0.000000                    1.0             0.000000   \n",
       "\n",
       "   HOMEIMPROVEMENT_SUPPLY  GENERALRETAILSERVICES  HEALTHCARE  \\\n",
       "0                0.220216               0.847817    0.000000   \n",
       "1                0.000000               0.000000    0.000000   \n",
       "2                0.286389               0.000000    0.000000   \n",
       "3                0.000000               0.000000    0.000000   \n",
       "4                0.065790               0.000000    0.000000   \n",
       "5                0.341937               0.000000    0.130314   \n",
       "6                0.000000               0.000000    0.000000   \n",
       "7                0.000000               0.000000    0.000000   \n",
       "8                0.000000               0.000000    0.000000   \n",
       "9                0.000000               0.000000    0.080094   \n",
       "\n",
       "   DEPARTMENTSTORES  RESTAURANTS  ELECTRONICS  GENERALRETAILGOODS  ...  \\\n",
       "0          0.000000     0.000000     0.000000            0.000000  ...   \n",
       "1          0.000000     0.000000     0.000000            0.000000  ...   \n",
       "2          0.000000     0.000000     0.000000            0.646933  ...   \n",
       "3          0.019026     0.000000     0.000000            0.000000  ...   \n",
       "4          0.132230     0.000000     0.000000            0.000000  ...   \n",
       "5          0.035261     0.078232     0.543787            0.342470  ...   \n",
       "6          0.136542     0.000000     0.000000            0.000000  ...   \n",
       "7          0.000000     0.000000     0.000000            0.000000  ...   \n",
       "8          0.033771     0.000000     0.000000            0.000000  ...   \n",
       "9          0.000000     0.000000     0.000000            0.000000  ...   \n",
       "\n",
       "   INT_f_ECI_f  DOM_f_RECURRINGINSTALLMENT_f  INT_f_FACE_TO_FACE_f  \\\n",
       "0     0.000000                           0.0                   0.0   \n",
       "1     0.000000                           1.0                   0.0   \n",
       "2     0.000000                           0.0                   0.0   \n",
       "3     0.000000                           0.0                   0.0   \n",
       "4     0.000000                           0.0                   0.0   \n",
       "5     0.000000                           0.0                   0.0   \n",
       "6     0.000000                           0.0                   0.0   \n",
       "7     0.012821                           0.0                   0.0   \n",
       "8     0.000000                           0.0                   0.0   \n",
       "9     0.000000                           0.0                   0.0   \n",
       "\n",
       "   DOM_f_MOTO_f  INT_f_MOTO_f  INT_f_RECURRINGINSTALLMENT_f   Weekday  \\\n",
       "0           0.0           0.0                           0.0  0.048387   \n",
       "1           0.0           0.0                           0.0  0.274194   \n",
       "2           0.0           0.0                           0.0  0.096774   \n",
       "3           0.0           0.0                           0.0  0.112903   \n",
       "4           0.0           0.0                           0.0  0.088710   \n",
       "5           0.0           0.0                           0.0  0.217742   \n",
       "6           0.0           0.0                           0.0  0.048387   \n",
       "7           0.0           0.0                           0.0  0.000000   \n",
       "8           0.0           0.0                           0.0  0.120968   \n",
       "9           0.0           0.0                           0.0  0.032258   \n",
       "\n",
       "    Weekend  cluster  cardno  \n",
       "0  0.000000        1       7  \n",
       "1  0.000000        1       8  \n",
       "2  0.031250        1       9  \n",
       "3  0.062500        1      14  \n",
       "4  0.046875        1      15  \n",
       "5  0.125000        1      19  \n",
       "6  0.015625        1      22  \n",
       "7  0.031250        0      31  \n",
       "8  0.015625        1      34  \n",
       "9  0.000000        1      35  \n",
       "\n",
       "[10 rows x 444 columns]"
      ]
     },
     "execution_count": 122,
     "metadata": {},
     "output_type": "execute_result"
    }
   ],
   "source": [
    "df_scaled.head(10)"
   ]
  },
  {
   "cell_type": "code",
   "execution_count": 123,
   "metadata": {},
   "outputs": [],
   "source": [
    "# df_scaled.to_csv('result_scaled.csv', index=False)"
   ]
  },
  {
   "cell_type": "code",
   "execution_count": 44,
   "metadata": {},
   "outputs": [],
   "source": [
    "df_no_outlier['cluster'] = clusters"
   ]
  },
  {
   "cell_type": "code",
   "execution_count": 124,
   "metadata": {},
   "outputs": [],
   "source": [
    "df_no_outlier['cardno'] = cardno_no_outlier"
   ]
  },
  {
   "cell_type": "code",
   "execution_count": 127,
   "metadata": {},
   "outputs": [],
   "source": [
    "# df_no_outlier.to_csv('result_no_outlier.csv', index=False)"
   ]
  },
  {
   "cell_type": "code",
   "execution_count": 56,
   "metadata": {},
   "outputs": [
    {
     "name": "stdout",
     "output_type": "stream",
     "text": [
      "[0, 1, 2, 3, 4, 5, 9, 10, 11, 12, 15, 16, 17, 19, 20, 22, 23, 24, 25, 26, 27, 28, 29, 31, 32, 35, 36, 37, 38, 39, 41, 42, 43, 44, 45, 46, 49, 54, 57, 59, 60, 61, 64, 67, 68, 70, 75, 77, 83, 84, 89, 90, 91, 92, 93, 96, 97, 99]\n"
     ]
    }
   ],
   "source": [
    "print(row_drop)"
   ]
  },
  {
   "cell_type": "code",
   "execution_count": 62,
   "metadata": {},
   "outputs": [
    {
     "data": {
      "text/plain": [
       "array([1, 1, 1, 1, 1, 1, 1, 0, 1, 1, 6, 7, 1, 5, 4, 1, 1, 1, 1, 1, 1, 1,\n",
       "       1, 3, 1, 1, 1, 1, 1, 1, 1, 9, 1, 8, 1, 1, 1, 7, 1, 2, 1, 7],\n",
       "      dtype=int32)"
      ]
     },
     "execution_count": 62,
     "metadata": {},
     "output_type": "execute_result"
    }
   ],
   "source": [
    "clusters"
   ]
  },
  {
   "cell_type": "code",
   "execution_count": 66,
   "metadata": {},
   "outputs": [],
   "source": [
    "count = 0\n",
    "predict_train = []\n",
    "for i in range(0, df.shape[0]):\n",
    "    if(i not in row_drop):\n",
    "        predict_train.append(clusters[count])\n",
    "        count += 1\n",
    "    else:\n",
    "        predict_train.append(None)"
   ]
  },
  {
   "cell_type": "code",
   "execution_count": 67,
   "metadata": {},
   "outputs": [
    {
     "name": "stdout",
     "output_type": "stream",
     "text": [
      "[None, None, None, None, None, None, 1, 1, 1, None, None, None, None, 1, 1, None, None, None, 1, None, None, 1, None, None, None, None, None, None, None, None, 0, None, None, 1, 1, None, None, None, None, None, 6, None, None, None, None, None, None, 7, 1, None, 5, 4, 1, 1, None, 1, 1, None, 1, None, None, None, 1, 1, None, 1, 3, None, None, 1, None, 1, 1, 1, 1, None, 1, None, 1, 9, 1, 8, 1, None, None, 1, 1, 7, 1, None, None, None, None, None, 2, 1, None, None, 7, None]\n"
     ]
    }
   ],
   "source": [
    "print(predict_train)"
   ]
  },
  {
   "cell_type": "code",
   "execution_count": 89,
   "metadata": {},
   "outputs": [],
   "source": [
    "df_result_predict['cardno'] = cardno"
   ]
  },
  {
   "cell_type": "code",
   "execution_count": 91,
   "metadata": {},
   "outputs": [],
   "source": [
    "df_result_predict['train'] = predict_train"
   ]
  },
  {
   "cell_type": "code",
   "execution_count": 92,
   "metadata": {},
   "outputs": [
    {
     "data": {
      "text/html": [
       "<div>\n",
       "<style scoped>\n",
       "    .dataframe tbody tr th:only-of-type {\n",
       "        vertical-align: middle;\n",
       "    }\n",
       "\n",
       "    .dataframe tbody tr th {\n",
       "        vertical-align: top;\n",
       "    }\n",
       "\n",
       "    .dataframe thead th {\n",
       "        text-align: right;\n",
       "    }\n",
       "</style>\n",
       "<table border=\"1\" class=\"dataframe\">\n",
       "  <thead>\n",
       "    <tr style=\"text-align: right;\">\n",
       "      <th></th>\n",
       "      <th>cardno</th>\n",
       "      <th>train</th>\n",
       "    </tr>\n",
       "  </thead>\n",
       "  <tbody>\n",
       "    <tr>\n",
       "      <th>0</th>\n",
       "      <td>1</td>\n",
       "      <td>NaN</td>\n",
       "    </tr>\n",
       "    <tr>\n",
       "      <th>1</th>\n",
       "      <td>2</td>\n",
       "      <td>NaN</td>\n",
       "    </tr>\n",
       "    <tr>\n",
       "      <th>2</th>\n",
       "      <td>3</td>\n",
       "      <td>NaN</td>\n",
       "    </tr>\n",
       "    <tr>\n",
       "      <th>3</th>\n",
       "      <td>4</td>\n",
       "      <td>NaN</td>\n",
       "    </tr>\n",
       "    <tr>\n",
       "      <th>4</th>\n",
       "      <td>5</td>\n",
       "      <td>NaN</td>\n",
       "    </tr>\n",
       "    <tr>\n",
       "      <th>5</th>\n",
       "      <td>6</td>\n",
       "      <td>NaN</td>\n",
       "    </tr>\n",
       "    <tr>\n",
       "      <th>6</th>\n",
       "      <td>7</td>\n",
       "      <td>1.0</td>\n",
       "    </tr>\n",
       "    <tr>\n",
       "      <th>7</th>\n",
       "      <td>8</td>\n",
       "      <td>1.0</td>\n",
       "    </tr>\n",
       "    <tr>\n",
       "      <th>8</th>\n",
       "      <td>9</td>\n",
       "      <td>1.0</td>\n",
       "    </tr>\n",
       "    <tr>\n",
       "      <th>9</th>\n",
       "      <td>10</td>\n",
       "      <td>NaN</td>\n",
       "    </tr>\n",
       "  </tbody>\n",
       "</table>\n",
       "</div>"
      ],
      "text/plain": [
       "   cardno  train\n",
       "0       1    NaN\n",
       "1       2    NaN\n",
       "2       3    NaN\n",
       "3       4    NaN\n",
       "4       5    NaN\n",
       "5       6    NaN\n",
       "6       7    1.0\n",
       "7       8    1.0\n",
       "8       9    1.0\n",
       "9      10    NaN"
      ]
     },
     "execution_count": 92,
     "metadata": {},
     "output_type": "execute_result"
    }
   ],
   "source": [
    "df_result_predict.head(10)"
   ]
  },
  {
   "cell_type": "code",
   "execution_count": 93,
   "metadata": {},
   "outputs": [],
   "source": [
    "# df_result_predict.to_csv('result_predict.csv', index=False)"
   ]
  },
  {
   "cell_type": "code",
   "execution_count": null,
   "metadata": {},
   "outputs": [],
   "source": []
  }
 ],
 "metadata": {
  "kernelspec": {
   "display_name": "Python 3",
   "language": "python",
   "name": "python3"
  },
  "language_info": {
   "codemirror_mode": {
    "name": "ipython",
    "version": 3
   },
   "file_extension": ".py",
   "mimetype": "text/x-python",
   "name": "python",
   "nbconvert_exporter": "python",
   "pygments_lexer": "ipython3",
   "version": "3.7.3"
  }
 },
 "nbformat": 4,
 "nbformat_minor": 2
}
